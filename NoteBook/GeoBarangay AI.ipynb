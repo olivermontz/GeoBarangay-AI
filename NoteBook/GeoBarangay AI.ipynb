{
 "cells": [
  {
   "cell_type": "markdown",
   "id": "fe1815dc-bc0e-42cb-a39e-e795e4f09e85",
   "metadata": {},
   "source": [
    "**GeoBarangay AI**"
   ]
  },
  {
   "cell_type": "code",
   "execution_count": 5,
   "id": "44bbc300-eaa5-473c-8207-49da5797f6ce",
   "metadata": {},
   "outputs": [
    {
     "name": "stdout",
     "output_type": "stream",
     "text": [
      "Predictions with barangay names have been saved to 'new_data_with_predictions_final.csv'.\n"
     ]
    }
   ],
   "source": [
    "import pandas as pd\n",
    "import joblib\n",
    "import numpy as np\n",
    "\n",
    "# Path to the .pkl files on the new PC\n",
    "model_path = r\"C:\\Users\\olive\\Downloads\\random_forest_model.pkl\"  # Adjust the path as necessary\n",
    "scaler_path = r\"C:\\Users\\olive\\Downloads\\scaler.pkl\"  # Adjust the path as necessary\n",
    "\n",
    "# Load the saved model and scaler\n",
    "model = joblib.load(model_path)\n",
    "scaler = joblib.load(scaler_path)\n",
    "\n",
    "# Load new data\n",
    "new_csv_file_path = r\"C:\\Users\\olive\\Downloads\\for_ai_tagging.csv\"  # Adjust the path as necessary\n",
    "new_df = pd.read_csv(new_csv_file_path)\n",
    "\n",
    "# Preprocess the new data\n",
    "new_df.replace([np.inf, -np.inf], np.nan, inplace=True)\n",
    "new_df.dropna(subset=['cus_latitude', 'cus_longitude'], inplace=True)  # Ensure necessary columns are not NaN\n",
    "\n",
    "# Select features\n",
    "X_new = new_df[['cus_latitude', 'cus_longitude']]\n",
    "\n",
    "# Scale the features using the loaded scaler\n",
    "X_new_scaled = scaler.transform(X_new)\n",
    "\n",
    "# Use the model to make predictions\n",
    "predictions = model.predict(X_new_scaled)\n",
    "\n",
    "# Add predictions to the DataFrame\n",
    "new_df['predicted_barangay'] = predictions\n",
    "\n",
    "# Load the mapping CSV\n",
    "mapping_csv_path = r\"C:\\Users\\olive\\Downloads\\ai_brgy_keylist.csv\"  # Path to your mapping file\n",
    "mapping_df = pd.read_csv(mapping_csv_path)\n",
    "\n",
    "# Ensure the merge keys are of the same type\n",
    "new_df['predicted_barangay'] = new_df['predicted_barangay'].astype(str)\n",
    "mapping_df['ID'] = mapping_df['ID'].astype(str)\n",
    "\n",
    "\n",
    "# Merge the new DataFrame with the mapping DataFrame to get the barangay names\n",
    "result_df = new_df.merge(mapping_df, left_on='predicted_barangay', right_on='ID', how='left')\n",
    "result_df = result_df.drop(columns=['barangay', 'ID', 'predicted_barangay'])\n",
    "\n",
    "\n",
    "# Save the DataFrame with the predicted barangay names\n",
    "result_df.to_csv(r\"C:\\Users\\olive\\Downloads\\new_data_with_predictions_final.csv\", index=False)\n",
    "\n",
    "print(\"Predictions with barangay names have been saved to 'new_data_with_predictions_final.csv'.\")\n"
   ]
  },
  {
   "cell_type": "code",
   "execution_count": null,
   "id": "74070729-7a37-4468-b5da-c898f86f9260",
   "metadata": {},
   "outputs": [],
   "source": []
  }
 ],
 "metadata": {
  "kernelspec": {
   "display_name": "Python 3 (ipykernel)",
   "language": "python",
   "name": "python3"
  },
  "language_info": {
   "codemirror_mode": {
    "name": "ipython",
    "version": 3
   },
   "file_extension": ".py",
   "mimetype": "text/x-python",
   "name": "python",
   "nbconvert_exporter": "python",
   "pygments_lexer": "ipython3",
   "version": "3.11.7"
  }
 },
 "nbformat": 4,
 "nbformat_minor": 5
}
