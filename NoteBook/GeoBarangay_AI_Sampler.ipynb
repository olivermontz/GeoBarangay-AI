{
 "cells": [
  {
   "cell_type": "code",
   "execution_count": 2,
   "id": "47bfeedf-4456-4b78-963e-f997b50340ff",
   "metadata": {},
   "outputs": [
    {
     "name": "stdout",
     "output_type": "stream",
     "text": [
      "The predicted barangay for coordinates (7.0675431, 125.608671) is: 3-A\n"
     ]
    }
   ],
   "source": [
    "import pandas as pd\n",
    "import joblib\n",
    "import numpy as np\n",
    "\n",
    "# Paths to the model, scaler, and mapping files\n",
    "model_path = r\"C:\\Users\\olive\\Downloads\\random_forest_model.pkl\"\n",
    "scaler_path = r\"C:\\Users\\olive\\Downloads\\scaler.pkl\"\n",
    "mapping_csv_path = r\"C:\\Users\\olive\\Downloads\\ai_brgy_keylist.csv\"\n",
    "\n",
    "# Load the saved model, scaler, and mapping data\n",
    "model = joblib.load(model_path)\n",
    "scaler = joblib.load(scaler_path)\n",
    "mapping_df = pd.read_csv(mapping_csv_path)\n",
    "\n",
    "# Ensure mapping IDs are strings for consistent merging\n",
    "mapping_df['ID'] = mapping_df['ID'].astype(str)\n",
    "\n",
    "# Define a function to predict barangay based on latitude and longitude\n",
    "def predict_barangay(lat, long):\n",
    "    # Create a DataFrame for the input\n",
    "    input_df = pd.DataFrame([[lat, long]], columns=['cus_latitude', 'cus_longitude'])\n",
    "    \n",
    "    # Replace infinite values and handle missing data\n",
    "    input_df.replace([np.inf, -np.inf], np.nan, inplace=True)\n",
    "    if input_df.isnull().values.any():\n",
    "        raise ValueError(\"Invalid input: Latitude and longitude must be finite numbers.\")\n",
    "    \n",
    "    # Scale the features using the loaded scaler\n",
    "    X_scaled = scaler.transform(input_df)\n",
    "    \n",
    "    # Use the model to make predictions\n",
    "    predicted_id = model.predict(X_scaled)[0]\n",
    "    \n",
    "    # Convert the predicted ID to a string for consistent merging\n",
    "    predicted_id_str = str(predicted_id)\n",
    "    \n",
    "    # Find the corresponding barangay name from the mapping DataFrame\n",
    "    barangay_name = mapping_df.loc[mapping_df['ID'] == predicted_id_str, 'Barangay'].values\n",
    "    if barangay_name.size > 0:\n",
    "        return barangay_name[0]\n",
    "    else:\n",
    "        return \"Barangay not found\"\n",
    "\n",
    "\n"
   ]
  },
  {
   "cell_type": "code",
   "execution_count": 5,
   "id": "d779de8c-9b7f-4c7c-a891-2ecad05cd32e",
   "metadata": {},
   "outputs": [
    {
     "name": "stdout",
     "output_type": "stream",
     "text": [
      "The predicted barangay for coordinates (6.988388, 125.483496) is: SIRAWAN\n"
     ]
    }
   ],
   "source": [
    "# Example usage of the function\n",
    "latitude = 6.988388   # Replace with actual latitude, \n",
    "longitude = 125.483496 # Replace with actual longitude\n",
    "\n",
    "predicted_barangay = predict_barangay(latitude, longitude)\n",
    "print(f\"The predicted barangay for coordinates ({latitude}, {longitude}) is: {predicted_barangay}\")"
   ]
  },
  {
   "cell_type": "code",
   "execution_count": null,
   "id": "e792662f-2548-436d-9bd3-d67aac4a13a4",
   "metadata": {},
   "outputs": [],
   "source": []
  },
  {
   "cell_type": "code",
   "execution_count": null,
   "id": "288a9e09-aed3-406a-9d8d-b343dffea70e",
   "metadata": {},
   "outputs": [],
   "source": []
  }
 ],
 "metadata": {
  "kernelspec": {
   "display_name": "Python 3 (ipykernel)",
   "language": "python",
   "name": "python3"
  },
  "language_info": {
   "codemirror_mode": {
    "name": "ipython",
    "version": 3
   },
   "file_extension": ".py",
   "mimetype": "text/x-python",
   "name": "python",
   "nbconvert_exporter": "python",
   "pygments_lexer": "ipython3",
   "version": "3.11.7"
  }
 },
 "nbformat": 4,
 "nbformat_minor": 5
}
